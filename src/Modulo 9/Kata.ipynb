{
 "cells": [
  {
   "cell_type": "markdown",
   "metadata": {},
   "source": [
    "## Ejercicio 1\n",
    "\n",
    "Uso de funciones"
   ]
  },
  {
   "cell_type": "code",
   "execution_count": 6,
   "metadata": {},
   "outputs": [],
   "source": [
    "def informeLecturaTanques(lstTanques):\n",
    "    if 0 in lstTanques:\n",
    "        print(f\"\"\"Un tanque se encuentra vacio\"\"\")\n",
    "    else:\n",
    "        print(f\"\"\"El porcentaje de conbustible es de {promedio(lstTanques)} distribuido en {len(lstTanques)} tanqes\"\"\")\n",
    "\n",
    "\n",
    "def promedio(lstTanques):\n",
    "    return (sum(lstTanques) / len(lstTanques))\n",
    "\n"
   ]
  },
  {
   "cell_type": "code",
   "execution_count": 7,
   "metadata": {},
   "outputs": [
    {
     "name": "stdout",
     "output_type": "stream",
     "text": [
      "El porcentaje de conbustible es de 3.0 distribuido en 5 tanqes\n"
     ]
    }
   ],
   "source": [
    "tanques = [1,2,3,4,5]\n",
    "informeLecturaTanques(tanques)"
   ]
  },
  {
   "cell_type": "markdown",
   "metadata": {},
   "source": [
    "## Ejercicio 2\n",
    "\n",
    "Trabajo con argumentos de palabra clave"
   ]
  },
  {
   "cell_type": "code",
   "execution_count": 9,
   "metadata": {},
   "outputs": [
    {
     "name": "stdout",
     "output_type": "stream",
     "text": [
      "Para llegar a luna\n",
      "    se debe viajar un total de: 25 min\n",
      "    con un conbustible total de 20\n"
     ]
    }
   ],
   "source": [
    "def informePreciso(prelanzamiento, tiempoVuelo, destino, tanqueExterno, tanqueInterno):\n",
    "    print(f\"\"\"Para llegar a {destino}\n",
    "    se debe viajar un total de: {prelanzamiento + tiempoVuelo} min\n",
    "    con un conbustible total de {tanqueExterno + tanqueInterno}\"\"\")\n",
    "\n",
    "informePreciso(10,15,\"luna\",10,10)"
   ]
  },
  {
   "cell_type": "code",
   "execution_count": 10,
   "metadata": {},
   "outputs": [
    {
     "name": "stdout",
     "output_type": "stream",
     "text": [
      "Para llegar a sol\n",
      "    se debe viajar un total de: 900060 min\n",
      "    con un conbustible total de 6000\n"
     ]
    }
   ],
   "source": [
    "def informePreciso(destino, *minutos, **combustiblePorTanque):\n",
    "    print(f\"\"\"Para llegar a {destino}\n",
    "    se debe viajar un total de: {sum(minutos)} min\n",
    "    con un conbustible total de {sum(combustiblePorTanque.values())}\"\"\")\n",
    "\n",
    "informePreciso(\"sol\", 60,900000, tanque1= 1000,tanque2 = 5000)"
   ]
  },
  {
   "cell_type": "code",
   "execution_count": 32,
   "metadata": {},
   "outputs": [
    {
     "name": "stdout",
     "output_type": "stream",
     "text": [
      "Para llegar a sol\n",
      "    se debe viajar un total de: 900060 min.\n",
      "    Total de combustible por tanque:\n",
      "    tanque1 : 1000 lts\n",
      "tanque2 : 5000 lts\n",
      "\n"
     ]
    }
   ],
   "source": [
    "def informePreciso(destino, *minutos, **combustiblePorTanque):\n",
    "    print(f\"\"\"Para llegar a {destino}\n",
    "    se debe viajar un total de: {sum(minutos)} min.\n",
    "    Total de combustible por tanque:\n",
    "    \"\"\" + combustible(**combustiblePorTanque))\n",
    "\n",
    "def combustible(**combustiblePorTanque):\n",
    "    reporte = \"\"\n",
    "    for tanque, contenido in combustiblePorTanque.items():\n",
    "        reporte += f\"{tanque} : {contenido} lts\\n\"\n",
    "    return reporte\n",
    "\n",
    "informePreciso(\"sol\", 60,900000, tanque1= 1000,tanque2 = 5000)\n",
    "# print(combustible(tanque1= 1000,tanque2 = 5000))"
   ]
  }
 ],
 "metadata": {
  "interpreter": {
   "hash": "916dbcbb3f70747c44a77c7bcd40155683ae19c65e1c03b4aa3499c5328201f1"
  },
  "kernelspec": {
   "display_name": "Python 3.8.10 64-bit",
   "language": "python",
   "name": "python3"
  },
  "language_info": {
   "codemirror_mode": {
    "name": "ipython",
    "version": 3
   },
   "file_extension": ".py",
   "mimetype": "text/x-python",
   "name": "python",
   "nbconvert_exporter": "python",
   "pygments_lexer": "ipython3",
   "version": "3.8.10"
  },
  "orig_nbformat": 4
 },
 "nbformat": 4,
 "nbformat_minor": 2
}
