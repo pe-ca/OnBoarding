{
 "cells": [
  {
   "cell_type": "markdown",
   "metadata": {},
   "source": [
    "## Ejercicio 1\n",
    "\n",
    "Uso de funciones"
   ]
  },
  {
   "cell_type": "code",
   "execution_count": 6,
   "metadata": {},
   "outputs": [],
   "source": [
    "def informeLecturaTanques(lstTanques):\n",
    "    if 0 in lstTanques:\n",
    "        print(f\"\"\"Un tanque se encuentra vacio\"\"\")\n",
    "    else:\n",
    "        print(f\"\"\"El porcentaje de conbustible es de {promedio(lstTanques)} distribuido en {len(lstTanques)} tanqes\"\"\")\n",
    "\n",
    "\n",
    "def promedio(lstTanques):\n",
    "    return (sum(lstTanques) / len(lstTanques))\n",
    "\n"
   ]
  },
  {
   "cell_type": "code",
   "execution_count": 7,
   "metadata": {},
   "outputs": [
    {
     "name": "stdout",
     "output_type": "stream",
     "text": [
      "El porcentaje de conbustible es de 3.0 distribuido en 5 tanqes\n"
     ]
    }
   ],
   "source": [
    "tanques = [1,2,3,4,5]\n",
    "informeLecturaTanques(tanques)"
   ]
  },
  {
   "cell_type": "markdown",
   "metadata": {},
   "source": [
    "## Ejercicio 2\n",
    "\n",
    "Trabajo con argumentos de palabra clave"
   ]
  },
  {
   "cell_type": "code",
   "execution_count": 9,
   "metadata": {},
   "outputs": [
    {
     "name": "stdout",
     "output_type": "stream",
     "text": [
      "Para llegar a luna\n",
      "    se debe viajar un total de: 25 min\n",
      "    con un conbustible total de 20\n"
     ]
    }
   ],
   "source": [
    "def informePreciso(prelanzamiento, tiempoVuelo, destino, tanqueExterno, tanqueInterno):\n",
    "    print(f\"\"\"Para llegar a {destino}\n",
    "    se debe viajar un total de: {prelanzamiento + tiempoVuelo} min\n",
    "    con un conbustible total de {tanqueExterno + tanqueInterno}\"\"\")\n",
    "\n",
    "informePreciso(10,15,\"luna\",10,10)"
   ]
  },
  {
   "cell_type": "code",
   "execution_count": 10,
   "metadata": {},
   "outputs": [
    {
     "name": "stdout",
     "output_type": "stream",
     "text": [
      "Para llegar a sol\n",
      "    se debe viajar un total de: 900060 min\n",
      "    con un conbustible total de 6000\n"
     ]
    }
   ],
   "source": [
    "def informePreciso(destino, *minutos, **combustiblePorTanque):\n",
    "    print(f\"\"\"Para llegar a {destino}\n",
    "    se debe viajar un total de: {sum(minutos)} min\n",
    "    con un conbustible total de {sum(combustiblePorTanque.values())}\"\"\")\n",
    "\n",
    "informePreciso(\"sol\", 60,900000, tanque1= 1000,tanque2 = 5000)"
   ]
  },
  {
   "cell_type": "code",
   "execution_count": 13,
   "metadata": {},
   "outputs": [
    {
     "ename": "AttributeError",
     "evalue": "'str' object has no attribute 'keys'",
     "output_type": "error",
     "traceback": [
      "\u001b[0;31m---------------------------------------------------------------------------\u001b[0m",
      "\u001b[0;31mAttributeError\u001b[0m                            Traceback (most recent call last)",
      "\u001b[1;32m/home/ricardo/Desktop/LaunchX/OnBoarding/src/Modulo 9/Kata.ipynb Cell 7'\u001b[0m in \u001b[0;36m<module>\u001b[0;34m\u001b[0m\n\u001b[1;32m     <a href='vscode-notebook-cell:/home/ricardo/Desktop/LaunchX/OnBoarding/src/Modulo%209/Kata.ipynb#ch0000007?line=10'>11</a>\u001b[0m     \u001b[39mreturn\u001b[39;00m reporte\n\u001b[1;32m     <a href='vscode-notebook-cell:/home/ricardo/Desktop/LaunchX/OnBoarding/src/Modulo%209/Kata.ipynb#ch0000007?line=12'>13</a>\u001b[0m \u001b[39m#informePreciso(\"sol\", 60,900000, tanque1= 1000,tanque2 = 5000)\u001b[39;00m\n\u001b[0;32m---> <a href='vscode-notebook-cell:/home/ricardo/Desktop/LaunchX/OnBoarding/src/Modulo%209/Kata.ipynb#ch0000007?line=13'>14</a>\u001b[0m combustible(tanque1\u001b[39m=\u001b[39;49m \u001b[39m1000\u001b[39;49m,tanque2 \u001b[39m=\u001b[39;49m \u001b[39m5000\u001b[39;49m)\n",
      "\u001b[1;32m/home/ricardo/Desktop/LaunchX/OnBoarding/src/Modulo 9/Kata.ipynb Cell 7'\u001b[0m in \u001b[0;36mcombustible\u001b[0;34m(**combustiblePorTanque)\u001b[0m\n\u001b[1;32m      <a href='vscode-notebook-cell:/home/ricardo/Desktop/LaunchX/OnBoarding/src/Modulo%209/Kata.ipynb#ch0000007?line=7'>8</a>\u001b[0m reporte \u001b[39m=\u001b[39m \u001b[39m\"\u001b[39m\u001b[39m\"\u001b[39m\n\u001b[1;32m      <a href='vscode-notebook-cell:/home/ricardo/Desktop/LaunchX/OnBoarding/src/Modulo%209/Kata.ipynb#ch0000007?line=8'>9</a>\u001b[0m \u001b[39mfor\u001b[39;00m item \u001b[39min\u001b[39;00m combustiblePorTanque:\n\u001b[0;32m---> <a href='vscode-notebook-cell:/home/ricardo/Desktop/LaunchX/OnBoarding/src/Modulo%209/Kata.ipynb#ch0000007?line=9'>10</a>\u001b[0m     reporte \u001b[39m=\u001b[39m \u001b[39mf\u001b[39m\u001b[39m\"\"\"\u001b[39m\u001b[39m{\u001b[39;00mitem\u001b[39m.\u001b[39mkeys()\u001b[39m}\u001b[39;00m\u001b[39m : \u001b[39m\u001b[39m{\u001b[39;00mitem\u001b[39m.\u001b[39mvalues()\u001b[39m}\u001b[39;00m\u001b[39m lts\u001b[39m\u001b[39m\"\"\"\u001b[39m\n\u001b[1;32m     <a href='vscode-notebook-cell:/home/ricardo/Desktop/LaunchX/OnBoarding/src/Modulo%209/Kata.ipynb#ch0000007?line=10'>11</a>\u001b[0m \u001b[39mreturn\u001b[39;00m reporte\n",
      "\u001b[0;31mAttributeError\u001b[0m: 'str' object has no attribute 'keys'"
     ]
    }
   ],
   "source": [
    "def informePreciso(destino, *minutos, **combustiblePorTanque):\n",
    "    print(f\"\"\"Para llegar a {destino}\n",
    "    se debe viajar un total de: {sum(minutos)} min.\n",
    "    Total de combustible por tanque:\n",
    "    {combustible(combustiblePorTanque)}\"\"\")\n",
    "\n",
    "def combustible(**combustiblePorTanque):\n",
    "    reporte = \"\"\n",
    "    for item in combustiblePorTanque:\n",
    "        reporte = f\"\"\"{item.keys()} : {item.values()} lts\"\"\"\n",
    "    return reporte\n",
    "\n",
    "#informePreciso(\"sol\", 60,900000, tanque1= 1000,tanque2 = 5000)\n",
    "combustible(tanque1= 1000,tanque2 = 5000)"
   ]
  }
 ],
 "metadata": {
  "interpreter": {
   "hash": "916dbcbb3f70747c44a77c7bcd40155683ae19c65e1c03b4aa3499c5328201f1"
  },
  "kernelspec": {
   "display_name": "Python 3.8.10 64-bit",
   "language": "python",
   "name": "python3"
  },
  "language_info": {
   "codemirror_mode": {
    "name": "ipython",
    "version": 3
   },
   "file_extension": ".py",
   "mimetype": "text/x-python",
   "name": "python",
   "nbconvert_exporter": "python",
   "pygments_lexer": "ipython3",
   "version": "3.8.10"
  },
  "orig_nbformat": 4
 },
 "nbformat": 4,
 "nbformat_minor": 2
}
