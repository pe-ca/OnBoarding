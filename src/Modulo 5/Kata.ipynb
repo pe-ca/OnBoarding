{
 "cells": [
  {
   "cell_type": "markdown",
   "metadata": {},
   "source": [
    "## Ejercicio 1\n",
    "\n",
    "Utilizar operadores aritmeticos"
   ]
  },
  {
   "cell_type": "code",
   "execution_count": null,
   "metadata": {},
   "outputs": [],
   "source": [
    "tierra = 149597870\n",
    "jupiter = 778547200"
   ]
  },
  {
   "cell_type": "code",
   "execution_count": 6,
   "metadata": {},
   "outputs": [
    {
     "name": "stdout",
     "output_type": "stream",
     "text": [
      "Distancia entre la Tierra y Jupiter:628949330 km\n",
      "Distancia entre la Tierra y Jupiter:390577534 mi\n"
     ]
    }
   ],
   "source": [
    "print(f\"\"\"Distancia entre la Tierra y Jupiter:{abs(jupiter - tierra)} km\"\"\")\n",
    "print(f\"\"\"Distancia entre la Tierra y Jupiter:{round(abs(jupiter - tierra) * 0.621)} mi\"\"\")"
   ]
  },
  {
   "cell_type": "markdown",
   "metadata": {},
   "source": [
    "## Ejercicio 2\n",
    "Convierte cadenas en números y usa valores absolutos"
   ]
  },
  {
   "cell_type": "code",
   "execution_count": 8,
   "metadata": {},
   "outputs": [
    {
     "name": "stdout",
     "output_type": "stream",
     "text": [
      "Distancia entre planetas\n",
      "La distancia entre los dos planetas es de \n",
      "628949330 km \n",
      "lo que equivale a 390577533.93 mi\n"
     ]
    }
   ],
   "source": [
    "print(\"Distancia entre planetas\")\n",
    "planeta1 = int(input(\"Distancia del planeta 1 en relacion al sol\"))\n",
    "planeta2 = int(input(\"Distancia del planeta 2 en relacion al sol\"))\n",
    "\n",
    "print(f\"\"\"La distancia entre los dos planetas es de \n",
    "{abs(planeta2 - planeta1)} km lo que equivale a {abs(planeta2 - planeta1) * 0.621} mi\"\"\")\n"
   ]
  }
 ],
 "metadata": {
  "interpreter": {
   "hash": "916dbcbb3f70747c44a77c7bcd40155683ae19c65e1c03b4aa3499c5328201f1"
  },
  "kernelspec": {
   "display_name": "Python 3.8.10 64-bit",
   "language": "python",
   "name": "python3"
  },
  "language_info": {
   "codemirror_mode": {
    "name": "ipython",
    "version": 3
   },
   "file_extension": ".py",
   "mimetype": "text/x-python",
   "name": "python",
   "nbconvert_exporter": "python",
   "pygments_lexer": "ipython3",
   "version": "3.8.10"
  },
  "orig_nbformat": 4
 },
 "nbformat": 4,
 "nbformat_minor": 2
}
