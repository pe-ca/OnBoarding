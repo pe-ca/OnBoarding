{
 "cells": [
  {
   "cell_type": "markdown",
   "metadata": {},
   "source": [
    "## Ejercicio 1\n",
    "\n",
    "Transformacion de cadenas"
   ]
  },
  {
   "cell_type": "code",
   "execution_count": null,
   "metadata": {},
   "outputs": [],
   "source": [
    "text = \"\"\"Interesting facts about the Moon. The Moon is Earth's only satellite. There are several interesting facts about the Moon and how it affects life here on Earth. \n",
    "On average, the Moon moves 4cm away from the Earth every year. This yearly drift is not significant enough to cause immediate effects on Earth. The highest daylight temperature of the Moon is 127 C.\"\"\"\n",
    "\n",
    "print(text)"
   ]
  },
  {
   "cell_type": "code",
   "execution_count": null,
   "metadata": {},
   "outputs": [],
   "source": [
    "oraciones = text.split(\".\")\n",
    "for item in oraciones:\n",
    "    print(item)"
   ]
  },
  {
   "cell_type": "code",
   "execution_count": null,
   "metadata": {},
   "outputs": [],
   "source": [
    "for item in oraciones:\n",
    "    if \"average\" in item.lower() or \"temperature\" in item.lower() or \"distance\" in item.lower():\n",
    "        if item.endswith(\"C\"):\n",
    "            print(item.replace(\"C\", \"Celsius.\"))"
   ]
  },
  {
   "cell_type": "markdown",
   "metadata": {},
   "source": [
    "## Ejercicio 2\n",
    "\n",
    "Formateando cadenas"
   ]
  },
  {
   "cell_type": "code",
   "execution_count": null,
   "metadata": {},
   "outputs": [],
   "source": [
    "# Datos con los que vas a trabajar\n",
    "name = \"Ganímedes\"\n",
    "gravity = 0.00143 # in kms\n",
    "planet = \"Marte\"\n",
    "calculoGravedad=gravity*100"
   ]
  },
  {
   "cell_type": "code",
   "execution_count": null,
   "metadata": {},
   "outputs": [],
   "source": [
    "print(\"Gravity facts about {satelite} and {planeta}\".format(satelite = name, planeta = planet))\n",
    "print(\"----------------------------------------------------------------------------\")\n",
    "print(f\"\"\"Planet Name = {planet}\n",
    "Gravity on {planet} = {gravity*1000}\"\"\")"
   ]
  },
  {
   "cell_type": "code",
   "execution_count": null,
   "metadata": {},
   "outputs": [],
   "source": [
    "titulo = \"Gravity facts about {satelite} and {planeta}\".format(satelite = name, planeta = planet)\n",
    "separacion = \"----------------------------------------------------------------------------\"\n",
    "detalle = f\"\"\"Planet Name = {planet}\n",
    "Gravity on {planet} = {gravity*1000}\"\"\"\n",
    "\n",
    "textoCompleto = f\"\"\"{titulo.title()}\n",
    "{separacion}\n",
    "{detalle}\"\"\"\n",
    "print(textoCompleto)"
   ]
  },
  {
   "cell_type": "code",
   "execution_count": 45,
   "metadata": {},
   "outputs": [
    {
     "name": "stdout",
     "output_type": "stream",
     "text": [
      "Gravity facts about Ganímedes and Marte\n",
      "--------------------------------------------------------------------------------\n",
      "Planet Name = Marte\n",
      "Gravity on Marte = 0.14300000000000002\n",
      "\n"
     ]
    }
   ],
   "source": [
    "plantilla = f\"\"\"Gravity facts about {name} and {planet}\n",
    "{\"-\"*80}\n",
    "Planet Name = {planet}\n",
    "Gravity on {planet} = {calculoGravedad}\n",
    "\"\"\"\n",
    "print(plantilla.format(name = name, planet = planet, calculoGravedad = calculoGravedad))"
   ]
  }
 ],
 "metadata": {
  "interpreter": {
   "hash": "916dbcbb3f70747c44a77c7bcd40155683ae19c65e1c03b4aa3499c5328201f1"
  },
  "kernelspec": {
   "display_name": "Python 3.8.10 64-bit",
   "language": "python",
   "name": "python3"
  },
  "language_info": {
   "codemirror_mode": {
    "name": "ipython",
    "version": 3
   },
   "file_extension": ".py",
   "mimetype": "text/x-python",
   "name": "python",
   "nbconvert_exporter": "python",
   "pygments_lexer": "ipython3",
   "version": "3.8.10"
  },
  "orig_nbformat": 4
 },
 "nbformat": 4,
 "nbformat_minor": 2
}
