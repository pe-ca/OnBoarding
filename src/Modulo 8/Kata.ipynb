{
 "cells": [
  {
   "cell_type": "markdown",
   "metadata": {},
   "source": [
    "## Ejercicio 1\n",
    "\n",
    "Creacion de diccionarios"
   ]
  },
  {
   "cell_type": "code",
   "execution_count": 2,
   "metadata": {},
   "outputs": [
    {
     "name": "stdout",
     "output_type": "stream",
     "text": [
      "En el planeta Mars existen 2 lunas\n"
     ]
    }
   ],
   "source": [
    "planet = {\n",
    "    'name' : \"Mars\"\n",
    "    , 'moons': 2\n",
    "}\n",
    "print(f\"\"\"En el planeta {planet.get(\"name\")} existen {planet['moons']} lunas\"\"\")"
   ]
  },
  {
   "cell_type": "code",
   "execution_count": 4,
   "metadata": {},
   "outputs": [
    {
     "name": "stdout",
     "output_type": "stream",
     "text": [
      "La circunferencia polar de Mars es de 6752 km\n"
     ]
    }
   ],
   "source": [
    "planet.update({\n",
    "    'circunferencia (km)': ({\n",
    "        'polar':6752\n",
    "        , 'equatorial':6792\n",
    "    })\n",
    "})\n",
    "print(f\"\"\"La circunferencia polar de {planet.get(\"name\")} es de {planet['circunferencia (km)']['polar']} km\"\"\")"
   ]
  },
  {
   "cell_type": "markdown",
   "metadata": {},
   "source": [
    "## Ejercicio 2\n",
    "\n",
    "Programacion dinamica con diccionarios"
   ]
  },
  {
   "cell_type": "code",
   "execution_count": 5,
   "metadata": {},
   "outputs": [],
   "source": [
    "planet_moons = {\n",
    "    'mercury': 0,\n",
    "    'venus': 0,\n",
    "    'earth': 1,\n",
    "    'mars': 2,\n",
    "    'jupiter': 79,\n",
    "    'saturn': 82,\n",
    "    'uranus': 27,\n",
    "    'neptune': 14,\n",
    "    'pluto': 5,\n",
    "    'haumea': 2,\n",
    "    'makemake': 1,\n",
    "    'eris': 1\n",
    "}"
   ]
  },
  {
   "cell_type": "code",
   "execution_count": 11,
   "metadata": {},
   "outputs": [
    {
     "name": "stdout",
     "output_type": "stream",
     "text": [
      "El número total de lunas es de 214, el promedio de lunas por planeta es de 17.833333333333332\n"
     ]
    }
   ],
   "source": [
    "moons = planet_moons.values()\n",
    "totalMoons = 0\n",
    "for moon in moons:\n",
    "    totalMoons += moon\n",
    "print(f\"\"\"El número total de lunas es de {totalMoons}, el promedio de lunas por planeta es de {totalMoons/len(moons)}\"\"\")"
   ]
  }
 ],
 "metadata": {
  "interpreter": {
   "hash": "916dbcbb3f70747c44a77c7bcd40155683ae19c65e1c03b4aa3499c5328201f1"
  },
  "kernelspec": {
   "display_name": "Python 3.8.10 64-bit",
   "language": "python",
   "name": "python3"
  },
  "language_info": {
   "codemirror_mode": {
    "name": "ipython",
    "version": 3
   },
   "file_extension": ".py",
   "mimetype": "text/x-python",
   "name": "python",
   "nbconvert_exporter": "python",
   "pygments_lexer": "ipython3",
   "version": "3.8.10"
  },
  "orig_nbformat": 4
 },
 "nbformat": 4,
 "nbformat_minor": 2
}
