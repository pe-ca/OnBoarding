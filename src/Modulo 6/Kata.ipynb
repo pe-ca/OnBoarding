{
 "cells": [
  {
   "cell_type": "markdown",
   "metadata": {},
   "source": [
    "## Ejercicio 1\n",
    "\n",
    "Crear y usar una lista"
   ]
  },
  {
   "cell_type": "code",
   "execution_count": null,
   "metadata": {},
   "outputs": [],
   "source": [
    "planets = ['Mercury', 'Venus', 'Earth', 'Mars', 'Jupiter', 'Saturn', 'Uranus', 'Neptune']"
   ]
  },
  {
   "cell_type": "code",
   "execution_count": null,
   "metadata": {},
   "outputs": [],
   "source": [
    "print(f\"La cantidad de planetas es {len(planets)}\")\n",
    "planets.append(\"Pluton\")\n",
    "print(f\"\"\"Se agrego {planets[-1]} a la lista de planetas,\n",
    "ahora existen {len(planets)} planetas en la lista\"\"\")"
   ]
  },
  {
   "cell_type": "markdown",
   "metadata": {},
   "source": [
    "## Ejercicio 2\n",
    "\n",
    "Trabajar con datos en una lista"
   ]
  },
  {
   "cell_type": "code",
   "execution_count": 2,
   "metadata": {},
   "outputs": [],
   "source": [
    "planets = ['Mercurio', 'Venus', 'Tierra', 'Marte', 'Jupiter', 'Saturno', 'Neptuno']\n",
    "planetName = input(\"¿Como se llama el planeta?\").capitalize()\n",
    "planetIndex = 0\n",
    "existePlaneta = planetName in planets"
   ]
  },
  {
   "cell_type": "code",
   "execution_count": 3,
   "metadata": {},
   "outputs": [
    {
     "name": "stdout",
     "output_type": "stream",
     "text": [
      "Tierra es el 3° paneta desde el sol\n"
     ]
    }
   ],
   "source": [
    "if existePlaneta:\n",
    "    planetIndex = planets.index(planetName)\n",
    "    print(f\"\"\"{planets[planetIndex]} es el {planetIndex + 1}° paneta desde el sol\"\"\")\n",
    "else:\n",
    "    print(\"Planeta no registrado\")"
   ]
  },
  {
   "cell_type": "code",
   "execution_count": 8,
   "metadata": {},
   "outputs": [
    {
     "name": "stdout",
     "output_type": "stream",
     "text": [
      "Los planetas que se encuentran mas cerca del sol y antes de Tierra son:\n",
      "['Mercurio', 'Venus']\n",
      "Los planetas que se encuentran mas alejados al son despues de Tierra son:\n",
      "['Marte', 'Jupiter', 'Saturno', 'Neptuno']\n"
     ]
    }
   ],
   "source": [
    "if existePlaneta:\n",
    "    print(f\"Los planetas que se encuentran mas cerca del sol y antes de {planetName} son:\")\n",
    "    print(planets[0:planetIndex])\n",
    "    print(f\"Los planetas que se encuentran mas alejados al son despues de {planetName} son:\")\n",
    "    print(planets[planetIndex+1:len(planets)])"
   ]
  }
 ],
 "metadata": {
  "interpreter": {
   "hash": "916dbcbb3f70747c44a77c7bcd40155683ae19c65e1c03b4aa3499c5328201f1"
  },
  "kernelspec": {
   "display_name": "Python 3.8.10 64-bit",
   "language": "python",
   "name": "python3"
  },
  "language_info": {
   "codemirror_mode": {
    "name": "ipython",
    "version": 3
   },
   "file_extension": ".py",
   "mimetype": "text/x-python",
   "name": "python",
   "nbconvert_exporter": "python",
   "pygments_lexer": "ipython3",
   "version": "3.8.10"
  },
  "orig_nbformat": 4
 },
 "nbformat": 4,
 "nbformat_minor": 2
}
