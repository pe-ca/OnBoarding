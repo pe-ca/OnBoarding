{
 "cells": [
  {
   "cell_type": "markdown",
   "metadata": {},
   "source": [
    "## Ejercicio 1\n",
    "\n",
    "Escribir declaraciones if, else, elif"
   ]
  },
  {
   "cell_type": "code",
   "execution_count": null,
   "metadata": {},
   "outputs": [],
   "source": [
    "maxSpeed = 25\n",
    "speed = int(input(\"Velocidad del asteroide\"))\n",
    "\n",
    "if maxSpeed < speed: # Advertencia asteroide rapido\n",
    "    print(\"Advertencia: Un asteroide se aproxima a \" + str(speed))\n",
    "else:\n",
    "    print(\"Nada de que preocuparse\")"
   ]
  },
  {
   "cell_type": "code",
   "execution_count": null,
   "metadata": {},
   "outputs": [],
   "source": [
    "speed = 19\n",
    "if speed >= 20: # no se requiere un elif ya que se usa la evaluacion mayor igual (>=)\n",
    "    print(\"Busca en el cielo quiza puedas ver un rayo de luz\")\n",
    "else:\n",
    "    print(\"Nada interesante que ver\")"
   ]
  },
  {
   "cell_type": "markdown",
   "metadata": {},
   "source": [
    "## Ejercicio 2\n",
    "\n",
    "Uso de operadores **and** y **or**"
   ]
  },
  {
   "cell_type": "code",
   "execution_count": null,
   "metadata": {},
   "outputs": [],
   "source": [
    "diametro = int(input(\"¿Que tamaño tiene el asteroide?\"))\n",
    "velocidad = int(input(\"¿A que velocidad viaja el asteroide?\"))\n",
    "\n",
    "if velocidad < 25 and diametro < 25:\n",
    "    print(\"Busca en el cielo quiza puedas ver un rayo de luz\")\n",
    "elif velocidad > 25 and diametro > 25 and diametro < 1000:\n",
    "    print(\"Advertencia: Un asteroide con un diametro de \" + str(diametro) + \"mts se aproxima a \" + str(velocidad) + \" km/s\")\n",
    "else:\n",
    "    print(\"El asteroide se quemarán a medida que entren en la atmósfera de la Tierra\")\n"
   ]
  }
 ],
 "metadata": {
  "interpreter": {
   "hash": "916dbcbb3f70747c44a77c7bcd40155683ae19c65e1c03b4aa3499c5328201f1"
  },
  "kernelspec": {
   "display_name": "Python 3.8.10 64-bit",
   "language": "python",
   "name": "python3"
  },
  "language_info": {
   "codemirror_mode": {
    "name": "ipython",
    "version": 3
   },
   "file_extension": ".py",
   "mimetype": "text/x-python",
   "name": "python",
   "nbconvert_exporter": "python",
   "pygments_lexer": "ipython3",
   "version": "3.8.10"
  },
  "orig_nbformat": 4
 },
 "nbformat": 4,
 "nbformat_minor": 2
}
